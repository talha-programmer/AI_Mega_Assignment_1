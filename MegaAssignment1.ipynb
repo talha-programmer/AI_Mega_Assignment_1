{
 "cells": [
  {
   "cell_type": "markdown",
   "metadata": {},
   "source": [
    "# Assignment No 1 \n",
    "## Roll Number: 66639\n",
    "## Name: Muhammad Talha"
   ]
  },
  {
   "cell_type": "raw",
   "metadata": {},
   "source": [
    "9. Write Python Program add key-value pair in dictionary and check if a Given Key or Value or Both Exists in a Dictionary or Not.\n"
   ]
  },
  {
   "cell_type": "code",
   "execution_count": 1,
   "metadata": {},
   "outputs": [
    {
     "name": "stdout",
     "output_type": "stream",
     "text": [
      "Enter Key: name\n",
      "Enter Value: junaid\n",
      "Key found, but value not same\n"
     ]
    }
   ],
   "source": [
    "dic = {\"name\": \"talha\", \"age\":25}\n",
    "key = input(\"Enter Key: \")\n",
    "value = input(\"Enter Value: \")\n",
    "if key in dic.keys():\n",
    "    if dic[key] == value:\n",
    "        print(\"Key value pair found in dictionary!\")\n",
    "    else:\n",
    "        print(\"Key found, but value not same\")\n",
    "elif value in dic.values():\n",
    "    print(\"Only value found in dictionary\")\n",
    "else:\n",
    "    print(\"Both key and value not found\")"
   ]
  },
  {
   "cell_type": "raw",
   "metadata": {},
   "source": [
    "10. Write a Python Program to Count the Frequency of Words Appearing in a String Using a Dictionary and print only the words having Even (divisible by 2) frequency.\n"
   ]
  },
  {
   "cell_type": "code",
   "execution_count": 2,
   "metadata": {},
   "outputs": [
    {
     "name": "stdout",
     "output_type": "stream",
     "text": [
      "The words having even frequency are:\n",
      "containing: 2\n",
      "several: 2\n",
      "words: 2\n"
     ]
    }
   ],
   "source": [
    "string = \"A sentence containing several words containing words appearing for several times\"\n",
    "li = string.split()\n",
    "dic = dict()\n",
    "for i in li:\n",
    "    if i in dic.keys():\n",
    "        dic[i] += 1\n",
    "    else:\n",
    "        dic[i] = 1\n",
    "print(\"The words having even frequency are:\")\n",
    "for key, value in dic.items():\n",
    "    if int(value)%2 == 0:\n",
    "        print(key + \": \" + str(value))"
   ]
  },
  {
   "cell_type": "raw",
   "metadata": {},
   "source": [
    "19. x = [[4,1,1],[5,9,0]]\n",
    "for i in __?__:\n",
    "for j in __?__:\n",
    "        ?\n",
    "Output: 4\n",
    "        1\n",
    "        1\n",
    "        5\n",
    "        9\n",
    "        0"
   ]
  },
  {
   "cell_type": "code",
   "execution_count": 3,
   "metadata": {},
   "outputs": [
    {
     "name": "stdout",
     "output_type": "stream",
     "text": [
      "4\n",
      "1\n",
      "1\n",
      "5\n",
      "9\n",
      "0\n"
     ]
    }
   ],
   "source": [
    "x = [[4,1,1],[5,9,0]]\n",
    "for i in x[0]:\n",
    "    print(i)\n",
    "for j in x[1]:\n",
    "    print(j)"
   ]
  },
  {
   "cell_type": "raw",
   "metadata": {},
   "source": [
    "x = [[4, 1, 1], [5, 9, 0]]\n",
    "for i in __?__:\n",
    "    for j in __?__:\n",
    "        ?\n",
    "Output: 4 5\n",
    "        1 9\n",
    "        1 0"
   ]
  },
  {
   "cell_type": "code",
   "execution_count": 4,
   "metadata": {},
   "outputs": [
    {
     "name": "stdout",
     "output_type": "stream",
     "text": [
      "4  5\n",
      "1  9\n",
      "1  0\n"
     ]
    }
   ],
   "source": [
    "x = [[4,1,1],[5,9,0]]\n",
    "count = 0\n",
    "for i in x[0]:\n",
    "    for j in x[1]:\n",
    "        print(str(i) + \"  \" + str(x[1][count]))\n",
    "        count +=1\n",
    "        break\n"
   ]
  },
  {
   "cell_type": "raw",
   "metadata": {},
   "source": [
    "x = [[4, 1, 1], [5, 9, 0]]\n",
    "for i in __?__:\n",
    "for j in __?__:\n",
    "?\n",
    "Output: 4 1 1 5 9 0"
   ]
  },
  {
   "cell_type": "code",
   "execution_count": 7,
   "metadata": {},
   "outputs": [
    {
     "name": "stdout",
     "output_type": "stream",
     "text": [
      "4 1 1 5 9 0 "
     ]
    }
   ],
   "source": [
    "x = [[4,1,1],[5,9,0]]\n",
    "for i in x:\n",
    "    for j in i:\n",
    "        print(j,end=\" \")"
   ]
  },
  {
   "cell_type": "raw",
   "metadata": {},
   "source": [
    "x = [[4, 1, 1], [5, 9, 0]]\n",
    "for i in __?__:\n",
    "for j in __?__:\n",
    "?\n",
    "Output: 4 1 1\n",
    "        5 9 0"
   ]
  },
  {
   "cell_type": "code",
   "execution_count": 9,
   "metadata": {},
   "outputs": [
    {
     "name": "stdout",
     "output_type": "stream",
     "text": [
      "4 1 1 \n",
      "5 9 0 \n"
     ]
    }
   ],
   "source": [
    "x = [[4,1,1],[5,9,0]]\n",
    "for i in x:\n",
    "    for j in i:\n",
    "        print(j,end=\" \")\n",
    "    print()"
   ]
  },
  {
   "cell_type": "raw",
   "metadata": {},
   "source": [
    "46. Write a program that receives marks from user and check the grade.\n",
    "Marks greater than equal to 90 then A grade\n",
    "Marks between 80 to 90, B grade\n",
    "Marks between 70 to 80, C grade\n",
    "Marks between 60 to 70, D grade\n",
    "Marks less than equal to 60 then E grade"
   ]
  },
  {
   "cell_type": "code",
   "execution_count": 10,
   "metadata": {},
   "outputs": [
    {
     "name": "stdout",
     "output_type": "stream",
     "text": [
      "Enter marks: 78\n",
      "Grade: C\n"
     ]
    }
   ],
   "source": [
    "marks = float(input(\"Enter marks: \"))\n",
    "if (marks >=90):\n",
    "    print(\"Grade: A\")\n",
    "elif(marks >= 80):\n",
    "    print(\"Grade: B\")\n",
    "elif(marks >= 70):\n",
    "    print(\"Grade: C\")\n",
    "elif(marks >= 60):\n",
    "    print(\"Grade: D\")\n",
    "else:\n",
    "    print(\"Grade: F\")"
   ]
  },
  {
   "cell_type": "code",
   "execution_count": null,
   "metadata": {},
   "outputs": [],
   "source": []
  }
 ],
 "metadata": {
  "kernelspec": {
   "display_name": "Python 3",
   "language": "python",
   "name": "python3"
  },
  "language_info": {
   "codemirror_mode": {
    "name": "ipython",
    "version": 3
   },
   "file_extension": ".py",
   "mimetype": "text/x-python",
   "name": "python",
   "nbconvert_exporter": "python",
   "pygments_lexer": "ipython3",
   "version": "3.7.4"
  }
 },
 "nbformat": 4,
 "nbformat_minor": 2
}
